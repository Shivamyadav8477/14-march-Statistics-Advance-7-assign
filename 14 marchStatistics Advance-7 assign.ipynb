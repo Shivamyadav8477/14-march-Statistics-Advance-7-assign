{
 "cells": [
  {
   "cell_type": "code",
   "execution_count": null,
   "id": "5e77d24d-c292-4f13-ab57-6e7e198a14c6",
   "metadata": {},
   "outputs": [],
   "source": [
    "Q1. Write a Python function that takes in two arrays of data and calculates the F-value for a variance ratio\n",
    "test. The function should return the F-value and the corresponding p-value for the test."
   ]
  },
  {
   "cell_type": "code",
   "execution_count": null,
   "id": "b6ab6c09-bad4-4b39-ad90-3bc3a3ed3222",
   "metadata": {},
   "outputs": [],
   "source": [
    "\n",
    "To calculate the F-value for a variance ratio test (F-test) and the corresponding p-value in Python, you can use the scipy.stats library. Here's a Python function that performs this calculation:"
   ]
  },
  {
   "cell_type": "code",
   "execution_count": null,
   "id": "99db2f8c-fd53-4e31-b960-4de33b61d4e8",
   "metadata": {},
   "outputs": [],
   "source": [
    "import scipy.stats as stats\n",
    "\n",
    "def variance_ratio_test(data1, data2):\n",
    "    \"\"\"\n",
    "    Perform a variance ratio test (F-test) on two arrays of data.\n",
    "\n",
    "    Parameters:\n",
    "    - data1: First array of data\n",
    "    - data2: Second array of data\n",
    "\n",
    "    Returns:\n",
    "    - f_value: F-value\n",
    "    - p_value: Corresponding p-value\n",
    "    \"\"\"\n",
    "    # Calculate the variances of the two datasets\n",
    "    variance1 = np.var(data1, ddof=1)  # ddof=1 for sample variance\n",
    "    variance2 = np.var(data2, ddof=1)\n",
    "\n",
    "    # Perform the F-test\n",
    "    f_value = variance1 / variance2\n",
    "    p_value = 2 * min(stats.f.cdf(f_value, len(data1) - 1, len(data2) - 1), 1 - stats.f.cdf(f_value, len(data1) - 1, len(data2) - 1))\n",
    "\n",
    "    return f_value, p_value\n",
    "\n",
    "# Example usage:\n",
    "data1 = [20, 25, 30, 35, 40]\n",
    "data2 = [15, 20, 25, 30, 35]\n",
    "f_value, p_value = variance_ratio_test(data1, data2)\n",
    "print(\"F-value:\", f_value)\n",
    "print(\"p-value:\", p_value)\n"
   ]
  },
  {
   "cell_type": "code",
   "execution_count": null,
   "id": "c3ccbd21-448a-40cd-81ae-782044d82c0d",
   "metadata": {},
   "outputs": [],
   "source": [
    "n this code:\n",
    "\n",
    "The variance_ratio_test function takes two arrays of data as input.\n",
    "It calculates the sample variances of both datasets using np.var with ddof=1 to account for sample data.\n",
    "The F-value is calculated as the ratio of the variances of the two datasets.\n",
    "The p-value is calculated using the F-distribution's cumulative distribution function (stats.f.cdf) and adjusted for a two-tailed test.\n",
    "The function returns the F-value and the corresponding p-value.\n",
    "You can use this function with your own datasets by passing them as arguments to variance_ratio_test."
   ]
  },
  {
   "cell_type": "code",
   "execution_count": null,
   "id": "b28e1e62-004c-4702-b16c-ac4c50ff815b",
   "metadata": {},
   "outputs": [],
   "source": [
    "Q2. Given a significance level of 0.05 and the degrees of freedom for the numerator and denominator of an\n",
    "F-distribution, write a Python function that returns the critical F-value for a two-tailed test."
   ]
  },
  {
   "cell_type": "code",
   "execution_count": null,
   "id": "dd62404c-a826-4e91-a8ee-1885bf66277e",
   "metadata": {},
   "outputs": [],
   "source": [
    "To calculate the critical F-value for a two-tailed test at a given significance level (alpha) with specified degrees of freedom for the numerator (df1) and denominator (df2) of an F-distribution in Python, you can use the scipy.stats library. Here's a Python function that does this:"
   ]
  },
  {
   "cell_type": "code",
   "execution_count": 3,
   "id": "9c1edc84-0139-4f00-a775-c22eee3daf74",
   "metadata": {},
   "outputs": [
    {
     "name": "stdout",
     "output_type": "stream",
     "text": [
      "Critical F-value: 3.8586986662732143\n"
     ]
    }
   ],
   "source": [
    "import scipy.stats as stats\n",
    "\n",
    "def critical_f_value(alpha, df1, df2):\n",
    "    \"\"\"\n",
    "    Calculate the critical F-value for a two-tailed test at a given significance level.\n",
    "\n",
    "    Parameters:\n",
    "    - alpha: Significance level (e.g., 0.05 for a 5% significance level)\n",
    "    - df1: Degrees of freedom for the numerator\n",
    "    - df2: Degrees of freedom for the denominator\n",
    "\n",
    "    Returns:\n",
    "    - f_critical: Critical F-value\n",
    "    \"\"\"\n",
    "    # Calculate the critical F-value using the percent point function (ppf)\n",
    "    alpha_over_2 = alpha / 2  # Divide alpha by 2 for a two-tailed test\n",
    "    f_critical = stats.f.ppf(1 - alpha_over_2, df1, df2)\n",
    "\n",
    "    return f_critical\n",
    "\n",
    "# Example usage:\n",
    "alpha = 0.05\n",
    "df1 = 3  # Degrees of freedom for numerator\n",
    "df2 = 20  # Degrees of freedom for denominator\n",
    "f_critical = critical_f_value(alpha, df1, df2)\n",
    "print(\"Critical F-value:\", f_critical)\n"
   ]
  },
  {
   "cell_type": "code",
   "execution_count": null,
   "id": "4132d7f0-0e8a-4ee3-b9b1-b80c701d3a71",
   "metadata": {},
   "outputs": [],
   "source": [
    "n this code:\n",
    "\n",
    "The critical_f_value function takes three arguments: the significance level (alpha), the degrees of freedom for the numerator (df1), and the degrees of freedom for the denominator (df2).\n",
    "It calculates the critical F-value using the percent point function (stats.f.ppf) for a two-tailed test. The 1 - alpha_over_2 value represents the upper tail probability for a two-tailed test.\n",
    "The function returns the critical F-value.\n",
    "You can use this function by providing your desired significance level and degrees of freedom for the numerator and denominator as arguments to critical_f_value."
   ]
  },
  {
   "cell_type": "code",
   "execution_count": null,
   "id": "d201e10d-d3e1-4d3f-b2f7-50295040e3ca",
   "metadata": {},
   "outputs": [],
   "source": [
    "Q3. Write a Python program that generates random samples from two normal distributions with known\n",
    "\n",
    "variances and uses an F-test to determine if the variances are equal. The program should output the F-\n",
    "value, degrees of freedom, and p-value for the test."
   ]
  },
  {
   "cell_type": "code",
   "execution_count": null,
   "id": "dde5f56a-de59-4246-964a-4cc409f22d28",
   "metadata": {},
   "outputs": [],
   "source": [
    "To perform an F-test to determine if the variances of two random samples from normal distributions are equal, you can use Python with the scipy.stats library. Here's a Python program that generates random samples, performs the F-test, and outputs the F-value, degrees of freedom, and p-value for the test:"
   ]
  },
  {
   "cell_type": "code",
   "execution_count": 4,
   "id": "c43828a6-57bb-4af3-aabf-a385045ff7e1",
   "metadata": {},
   "outputs": [
    {
     "name": "stdout",
     "output_type": "stream",
     "text": [
      "F-Test Results:\n",
      "F-Statistic: 0.9656825386174982\n",
      "Degrees of Freedom (Sample 1): 29\n",
      "Degrees of Freedom (Sample 2): 29\n",
      "P-Value: 0.9257319079692549\n",
      "The p-value is greater than or equal to the significance level.\n",
      "There is no evidence to reject the null hypothesis. The variances are equal.\n"
     ]
    }
   ],
   "source": [
    "import numpy as np\n",
    "import scipy.stats as stats\n",
    "\n",
    "# Set the random seed for reproducibility\n",
    "np.random.seed(0)\n",
    "\n",
    "# Generate random samples from two normal distributions with known variances\n",
    "sample_size1 = 30  # Adjust the sample size as needed\n",
    "sample_size2 = 30\n",
    "variance1 = 4.0  # Known variance for the first distribution\n",
    "variance2 = 6.0  # Known variance for the second distribution\n",
    "\n",
    "# Generate random samples from the two distributions\n",
    "sample1 = np.random.normal(0, np.sqrt(variance1), sample_size1)\n",
    "sample2 = np.random.normal(0, np.sqrt(variance2), sample_size2)\n",
    "\n",
    "# Perform the F-test for equality of variances\n",
    "f_statistic = np.var(sample1, ddof=1) / np.var(sample2, ddof=1)  # Calculate F-statistic\n",
    "df1 = sample_size1 - 1  # Degrees of freedom for sample 1\n",
    "df2 = sample_size2 - 1  # Degrees of freedom for sample 2\n",
    "p_value = 2 * min(stats.f.cdf(f_statistic, df1, df2), 1 - stats.f.cdf(f_statistic, df1, df2))  # Two-tailed p-value\n",
    "\n",
    "# Output the results\n",
    "print(\"F-Test Results:\")\n",
    "print(\"F-Statistic:\", f_statistic)\n",
    "print(\"Degrees of Freedom (Sample 1):\", df1)\n",
    "print(\"Degrees of Freedom (Sample 2):\", df2)\n",
    "print(\"P-Value:\", p_value)\n",
    "\n",
    "# Determine if variances are equal based on the significance level (e.g., 0.05)\n",
    "alpha = 0.05\n",
    "if p_value < alpha:\n",
    "    print(\"The p-value is less than the significance level, so we reject the null hypothesis.\")\n",
    "    print(\"The variances are not equal.\")\n",
    "else:\n",
    "    print(\"The p-value is greater than or equal to the significance level.\")\n",
    "    print(\"There is no evidence to reject the null hypothesis. The variances are equal.\")\n"
   ]
  },
  {
   "cell_type": "code",
   "execution_count": null,
   "id": "b0827d0b-b792-4460-8060-1ad041d671b7",
   "metadata": {},
   "outputs": [],
   "source": [
    "In this program:\n",
    "\n",
    "We generate two random samples (sample1 and sample2) from normal distributions with known variances (variance1 and variance2).\n",
    "We calculate the F-statistic using the ratio of sample variances and degrees of freedom for both samples.\n",
    "The two-tailed p-value is computed using the F-distribution's cumulative distribution function.\n",
    "The results, including the F-statistic, degrees of freedom, and p-value, are displayed, and based on the significance level (alpha), we determine whether the variances are equal or not.\n",
    "You can adjust the sample_size1, sample_size2, variance1, variance2, and alpha values as needed for your specific scenario."
   ]
  },
  {
   "cell_type": "code",
   "execution_count": null,
   "id": "a3ab8831-3182-4c14-9756-fa49749e8183",
   "metadata": {},
   "outputs": [],
   "source": [
    "Q4.The variances of two populations are known to be 10 and 15. A sample of 12 observations is taken from\n",
    "each population. Conduct an F-test at the 5% significance level to determine if the variances are\n",
    "significantly different."
   ]
  },
  {
   "cell_type": "code",
   "execution_count": null,
   "id": "937137c9-2bf1-4a6b-8d36-12baeb24316c",
   "metadata": {},
   "outputs": [],
   "source": [
    "To conduct an F-test to determine if the variances of two populations are significantly different, you can use the following steps with Python:\n",
    "\n",
    "Define the known variances for the two populations.\n",
    "Specify the sample sizes for each population.\n",
    "Set the significance level (alpha) to 0.05 for a 5% significance level.\n",
    "Calculate the F-statistic.\n",
    "Determine the degrees of freedom for both populations.\n",
    "Compute the p-value for the F-test.\n",
    "Compare the p-value to alpha to make a decision.\n",
    "Here's a Python program to perform this test:"
   ]
  },
  {
   "cell_type": "code",
   "execution_count": 5,
   "id": "d030a302-9bf6-463e-8ccf-17c0b06c6d6f",
   "metadata": {},
   "outputs": [
    {
     "name": "stdout",
     "output_type": "stream",
     "text": [
      "F-Test Results:\n",
      "F-Statistic: 0.6666666666666666\n",
      "Degrees of Freedom (Population 1): 11\n",
      "Degrees of Freedom (Population 2): 11\n",
      "P-Value: 0.5123897987357996\n",
      "The p-value is greater than or equal to the significance level.\n",
      "There is no evidence to reject the null hypothesis. The variances are not significantly different.\n"
     ]
    }
   ],
   "source": [
    "import scipy.stats as stats\n",
    "\n",
    "# Known variances of the two populations\n",
    "variance1 = 10\n",
    "variance2 = 15\n",
    "\n",
    "# Sample sizes\n",
    "n1 = 12\n",
    "n2 = 12\n",
    "\n",
    "# Significance level\n",
    "alpha = 0.05\n",
    "\n",
    "# Calculate the F-statistic\n",
    "f_statistic = variance1 / variance2\n",
    "\n",
    "# Degrees of freedom\n",
    "df1 = n1 - 1\n",
    "df2 = n2 - 1\n",
    "\n",
    "# Compute the p-value for the F-test\n",
    "p_value = 2 * min(stats.f.cdf(f_statistic, df1, df2), 1 - stats.f.cdf(f_statistic, df1, df2))\n",
    "\n",
    "# Output the results\n",
    "print(\"F-Test Results:\")\n",
    "print(\"F-Statistic:\", f_statistic)\n",
    "print(\"Degrees of Freedom (Population 1):\", df1)\n",
    "print(\"Degrees of Freedom (Population 2):\", df2)\n",
    "print(\"P-Value:\", p_value)\n",
    "\n",
    "# Determine if variances are significantly different\n",
    "if p_value < alpha:\n",
    "    print(\"The p-value is less than the significance level, so we reject the null hypothesis.\")\n",
    "    print(\"The variances are significantly different.\")\n",
    "else:\n",
    "    print(\"The p-value is greater than or equal to the significance level.\")\n",
    "    print(\"There is no evidence to reject the null hypothesis. The variances are not significantly different.\")\n"
   ]
  },
  {
   "cell_type": "code",
   "execution_count": null,
   "id": "daf26659-7208-481f-a304-a6bb2b1a1669",
   "metadata": {},
   "outputs": [],
   "source": [
    "In this code:\n",
    "\n",
    "Replace the sample data generation with your actual data for the control and experimental groups.\n",
    "We use stats.ttest_ind to perform a two-sample t-test to compare the means of the control and experimental groups.\n",
    "The t-statistic and p-value are calculated and reported.\n",
    "If the p-value is less than the chosen significance level (alpha), we reject the null hypothesis, indicating a significant difference in test scores between the groups.\n",
    "We then perform a post-hoc test (Tukey's HSD) using pairwise_tukeyhsd to identify which group(s) differ significantly from each other.\n",
    "Interpret the results based on the p-value, and if significant differences are found, the post-hoc test results will help you pinpoint which group(s) have significantly different test scores."
   ]
  },
  {
   "cell_type": "code",
   "execution_count": null,
   "id": "c26d6f17-5679-4ec9-9ab4-e305a6f4dec4",
   "metadata": {},
   "outputs": [],
   "source": [
    "Q5. A manufacturer claims that the variance of the diameter of a certain product is 0.005. A sample of 25\n",
    "products is taken, and the sample variance is found to be 0.006. Conduct an F-test at the 1% significance\n",
    "level to determine if the claim is justified."
   ]
  },
  {
   "cell_type": "code",
   "execution_count": null,
   "id": "2a18dad3-8ea4-434c-a277-aeba01410b17",
   "metadata": {},
   "outputs": [],
   "source": [
    "To conduct an F-test to determine if the manufacturer's claim about the variance of the product's diameter is justified, you can follow these steps using Python:\n",
    "\n",
    "Define the manufacturer's claim about the population variance.\n",
    "Specify the sample size and the sample variance.\n",
    "Set the significance level (alpha) to 0.01 for a 1% significance level.\n",
    "Calculate the F-statistic.\n",
    "Determine the degrees of freedom for both the numerator and denominator.\n",
    "Compute the p-value for the F-test.\n",
    "Compare the p-value to alpha to make a decision.\n",
    "Here's a Python program to perform this test:"
   ]
  },
  {
   "cell_type": "code",
   "execution_count": 6,
   "id": "3b66f94f-7c18-4ee0-8e30-6cdd685dafc8",
   "metadata": {},
   "outputs": [
    {
     "name": "stdout",
     "output_type": "stream",
     "text": [
      "F-Test Results:\n",
      "F-Statistic: 1.2\n",
      "Degrees of Freedom (Sample): 24\n",
      "Degrees of Freedom (Claim Variance): 1\n",
      "P-Value: 0.6296099619959358\n",
      "The p-value is greater than or equal to the significance level.\n",
      "There is no evidence to reject the null hypothesis. The manufacturer's claim is justified.\n"
     ]
    }
   ],
   "source": [
    "import scipy.stats as stats\n",
    "\n",
    "# Manufacturer's claim about the population variance\n",
    "claim_variance = 0.005\n",
    "\n",
    "# Sample variance and sample size\n",
    "sample_variance = 0.006\n",
    "sample_size = 25\n",
    "\n",
    "# Significance level\n",
    "alpha = 0.01\n",
    "\n",
    "# Calculate the F-statistic\n",
    "f_statistic = sample_variance / claim_variance\n",
    "\n",
    "# Degrees of freedom\n",
    "df1 = sample_size - 1  # Degrees of freedom for the sample\n",
    "df2 = 1               # Degrees of freedom for the claim variance\n",
    "\n",
    "# Compute the p-value for the F-test\n",
    "p_value = 1 - stats.f.cdf(f_statistic, df1, df2)\n",
    "\n",
    "# Output the results\n",
    "print(\"F-Test Results:\")\n",
    "print(\"F-Statistic:\", f_statistic)\n",
    "print(\"Degrees of Freedom (Sample):\", df1)\n",
    "print(\"Degrees of Freedom (Claim Variance):\", df2)\n",
    "print(\"P-Value:\", p_value)\n",
    "\n",
    "# Determine if the claim is justified\n",
    "if p_value < alpha:\n",
    "    print(\"The p-value is less than the significance level, so we reject the null hypothesis.\")\n",
    "    print(\"The manufacturer's claim is not justified; the population variance is different.\")\n",
    "else:\n",
    "    print(\"The p-value is greater than or equal to the significance level.\")\n",
    "    print(\"There is no evidence to reject the null hypothesis. The manufacturer's claim is justified.\")\n"
   ]
  },
  {
   "cell_type": "code",
   "execution_count": null,
   "id": "d32c4fc3-81fa-4861-a728-38e288ca0e30",
   "metadata": {},
   "outputs": [],
   "source": [
    "In this code:\n",
    "\n",
    "We specify the manufacturer's claim about the population variance (claim_variance).\n",
    "The sample variance (sample_variance) and sample size (sample_size) are provided.\n",
    "The significance level (alpha) is set to 0.01 for a 1% significance level.\n",
    "The F-statistic is calculated as the ratio of the sample variance to the claimed population variance.\n",
    "Degrees of freedom for the sample and the claim variance are determined based on the sample size and degrees of freedom for the claim.\n",
    "The p-value is computed using the F-distribution's cumulative distribution function (stats.f.cdf).\n",
    "The results are displayed, and a decision is made based on the p-value and the chosen significance level.\n",
    "This program will perform the F-test to determine if the manufacturer's claim about the variance is justified at the 1% significance level."
   ]
  },
  {
   "cell_type": "code",
   "execution_count": null,
   "id": "51db75d4-57ea-4358-8753-a40a48393ee2",
   "metadata": {},
   "outputs": [],
   "source": [
    "Q6. Write a Python function that takes in the degrees of freedom for the numerator and denominator of an\n",
    "F-distribution and calculates the mean and variance of the distribution. The function should return the\n",
    "mean and variance as a tuple."
   ]
  },
  {
   "cell_type": "code",
   "execution_count": null,
   "id": "fcfd926e-10c6-4210-a844-9da6fb1cd2a3",
   "metadata": {},
   "outputs": [],
   "source": [
    "To calculate the mean and variance of an F-distribution given the degrees of freedom for the numerator (df1) and denominator (df2) in Python, you can use the following code:"
   ]
  },
  {
   "cell_type": "code",
   "execution_count": 7,
   "id": "48e8b03b-8b7c-4037-a959-9ac3580b6054",
   "metadata": {},
   "outputs": [
    {
     "name": "stdout",
     "output_type": "stream",
     "text": [
      "Mean of F-distribution: 1.1111111111111112\n",
      "Variance of F-distribution: 1.0802469135802468\n"
     ]
    }
   ],
   "source": [
    "def f_distribution_mean_variance(df1, df2):\n",
    "    \"\"\"\n",
    "    Calculate the mean and variance of an F-distribution.\n",
    "\n",
    "    Parameters:\n",
    "    - df1: Degrees of freedom for the numerator\n",
    "    - df2: Degrees of freedom for the denominator\n",
    "\n",
    "    Returns:\n",
    "    - mean: Mean of the F-distribution\n",
    "    - variance: Variance of the F-distribution\n",
    "    \"\"\"\n",
    "    if df2 <= 2:\n",
    "        raise ValueError(\"The denominator degrees of freedom (df2) must be greater than 2.\")\n",
    "\n",
    "    mean = df2 / (df2 - 2)\n",
    "    variance_numerator = 2 * df2**2 * (df1 + df2 - 2)\n",
    "    variance_denominator = df1 * (df2 - 2)**2 * (df2 - 4)\n",
    "    variance = variance_numerator / (df1 * (df2 - 2)**2 * (df2 - 4))\n",
    "\n",
    "    return mean, variance\n",
    "\n",
    "# Example usage:\n",
    "df1 = 3  # Degrees of freedom for the numerator\n",
    "df2 = 20  # Degrees of freedom for the denominator\n",
    "mean, variance = f_distribution_mean_variance(df1, df2)\n",
    "print(\"Mean of F-distribution:\", mean)\n",
    "print(\"Variance of F-distribution:\", variance)\n"
   ]
  },
  {
   "cell_type": "code",
   "execution_count": null,
   "id": "ea7058ab-85b2-413e-bfed-54e11a3f1104",
   "metadata": {},
   "outputs": [],
   "source": [
    "Q7. A random sample of 10 measurements is taken from a normal population with unknown variance. The\n",
    "sample variance is found to be 25. Another random sample of 15 measurements is taken from another\n",
    "normal population with unknown variance, and the sample variance is found to be 20. Conduct an F-test\n",
    "at the 10% significance level to determine if the variances are significantly different."
   ]
  },
  {
   "cell_type": "code",
   "execution_count": null,
   "id": "9da45860-c876-48d2-883e-58d039cc0c0e",
   "metadata": {},
   "outputs": [],
   "source": [
    "To conduct an F-test to determine if the variances of two populations are significantly different at a 10% significance level, you can follow these steps using Python:\n",
    "\n",
    "Specify the sample variances and sample sizes for both populations.\n",
    "Set the significance level (alpha) to 0.10 for a 10% significance level.\n",
    "Calculate the F-statistic.\n",
    "Determine the degrees of freedom for both samples.\n",
    "Compute the p-value for the F-test.\n",
    "Compare the p-value to alpha to make a decision.\n",
    "Here's a Python program to perform this test:"
   ]
  },
  {
   "cell_type": "code",
   "execution_count": 8,
   "id": "e1304566-db59-42f0-a882-5c7792e3a4ad",
   "metadata": {},
   "outputs": [
    {
     "name": "stdout",
     "output_type": "stream",
     "text": [
      "F-Test Results:\n",
      "F-Statistic: 1.25\n",
      "Degrees of Freedom (Sample 1): 9\n",
      "Degrees of Freedom (Sample 2): 14\n",
      "P-Value: 0.6832194382585954\n",
      "The p-value is greater than or equal to the significance level.\n",
      "There is no evidence to reject the null hypothesis. The variances are not significantly different.\n"
     ]
    }
   ],
   "source": [
    "import scipy.stats as stats\n",
    "\n",
    "# Sample variances and sample sizes\n",
    "sample_variance1 = 25\n",
    "sample_size1 = 10\n",
    "\n",
    "sample_variance2 = 20\n",
    "sample_size2 = 15\n",
    "\n",
    "# Significance level\n",
    "alpha = 0.10\n",
    "\n",
    "# Calculate the F-statistic\n",
    "f_statistic = sample_variance1 / sample_variance2\n",
    "\n",
    "# Degrees of freedom\n",
    "df1 = sample_size1 - 1  # Degrees of freedom for sample 1\n",
    "df2 = sample_size2 - 1  # Degrees of freedom for sample 2\n",
    "\n",
    "# Compute the p-value for the F-test\n",
    "p_value = 2 * min(stats.f.cdf(f_statistic, df1, df2), 1 - stats.f.cdf(f_statistic, df1, df2))\n",
    "\n",
    "# Output the results\n",
    "print(\"F-Test Results:\")\n",
    "print(\"F-Statistic:\", f_statistic)\n",
    "print(\"Degrees of Freedom (Sample 1):\", df1)\n",
    "print(\"Degrees of Freedom (Sample 2):\", df2)\n",
    "print(\"P-Value:\", p_value)\n",
    "\n",
    "# Determine if variances are significantly different\n",
    "if p_value < alpha:\n",
    "    print(\"The p-value is less than the significance level, so we reject the null hypothesis.\")\n",
    "    print(\"The variances are significantly different.\")\n",
    "else:\n",
    "    print(\"The p-value is greater than or equal to the significance level.\")\n",
    "    print(\"There is no evidence to reject the null hypothesis. The variances are not significantly different.\")\n"
   ]
  },
  {
   "cell_type": "code",
   "execution_count": null,
   "id": "c80aff19-6500-4bc9-9ca3-205434ac9d60",
   "metadata": {},
   "outputs": [],
   "source": [
    "In this code:\n",
    "\n",
    "We specify the sample variances (sample_variance1 and sample_variance2) and sample sizes (sample_size1 and sample_size2) for both populations.\n",
    "The significance level (alpha) is set to 0.10 for a 10% significance level.\n",
    "The F-statistic is calculated as the ratio of the sample variances.\n",
    "Degrees of freedom for each sample are determined based on the sample sizes.\n",
    "The p-value is computed using the F-distribution's cumulative distribution function (stats.f.cdf).\n",
    "The results are displayed, and a decision is made based on the p-value and the chosen significance level.\n",
    "This program will perform the F-test to determine if the variances are significantly different at the 10% significance level."
   ]
  },
  {
   "cell_type": "code",
   "execution_count": null,
   "id": "4d88022c-d45c-4861-a2f3-ac6855ebefb0",
   "metadata": {},
   "outputs": [],
   "source": [
    "Q8. The following data represent the waiting times in minutes at two different restaurants on a Saturday\n",
    "night: Restaurant A: 24, 25, 28, 23, 22, 20, 27; Restaurant B: 31, 33, 35, 30, 32, 36. Conduct an F-test at the 5%\n",
    "significance level to determine if the variances are significantly different."
   ]
  },
  {
   "cell_type": "code",
   "execution_count": null,
   "id": "bcf02f67-b85a-4c47-94d7-efea7179ca57",
   "metadata": {},
   "outputs": [],
   "source": []
  },
  {
   "cell_type": "code",
   "execution_count": null,
   "id": "98883e4f-5304-44df-8cc5-75d6db963655",
   "metadata": {},
   "outputs": [],
   "source": []
  },
  {
   "cell_type": "code",
   "execution_count": null,
   "id": "b3ad877f-5cc6-46cf-99e4-f700299b2606",
   "metadata": {},
   "outputs": [],
   "source": []
  },
  {
   "cell_type": "code",
   "execution_count": null,
   "id": "5e17eab4-35d1-4588-9e20-650d4d850761",
   "metadata": {},
   "outputs": [],
   "source": []
  }
 ],
 "metadata": {
  "kernelspec": {
   "display_name": "Python 3 (ipykernel)",
   "language": "python",
   "name": "python3"
  },
  "language_info": {
   "codemirror_mode": {
    "name": "ipython",
    "version": 3
   },
   "file_extension": ".py",
   "mimetype": "text/x-python",
   "name": "python",
   "nbconvert_exporter": "python",
   "pygments_lexer": "ipython3",
   "version": "3.10.6"
  }
 },
 "nbformat": 4,
 "nbformat_minor": 5
}
